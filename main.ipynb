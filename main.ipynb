{
  "cells": [
    {
      "cell_type": "markdown",
      "metadata": {
        "id": "view-in-github",
        "colab_type": "text"
      },
      "source": [
        "<a href=\"https://colab.research.google.com/github/alessandrou24/ColabGithub/blob/main/main.ipynb\" target=\"_parent\"><img src=\"https://colab.research.google.com/assets/colab-badge.svg\" alt=\"Open In Colab\"/></a>"
      ]
    },
    {
      "cell_type": "code",
      "execution_count": 2,
      "metadata": {
        "id": "kCHkWuM8lEvg",
        "vscode": {
          "languageId": "plaintext"
        },
        "outputId": "31a4fdf3-b405-4868-d1b2-bdb7589558d2",
        "colab": {
          "base_uri": "https://localhost:8080/"
        }
      },
      "outputs": [
        {
          "output_type": "stream",
          "name": "stdout",
          "text": [
            "Cloning into 'ColabGithub'...\n",
            "remote: Enumerating objects: 20, done.\u001b[K\n",
            "remote: Counting objects:   5% (1/20)\u001b[K\rremote: Counting objects:  10% (2/20)\u001b[K\rremote: Counting objects:  15% (3/20)\u001b[K\rremote: Counting objects:  20% (4/20)\u001b[K\rremote: Counting objects:  25% (5/20)\u001b[K\rremote: Counting objects:  30% (6/20)\u001b[K\rremote: Counting objects:  35% (7/20)\u001b[K\rremote: Counting objects:  40% (8/20)\u001b[K\rremote: Counting objects:  45% (9/20)\u001b[K\rremote: Counting objects:  50% (10/20)\u001b[K\rremote: Counting objects:  55% (11/20)\u001b[K\rremote: Counting objects:  60% (12/20)\u001b[K\rremote: Counting objects:  65% (13/20)\u001b[K\rremote: Counting objects:  70% (14/20)\u001b[K\rremote: Counting objects:  75% (15/20)\u001b[K\rremote: Counting objects:  80% (16/20)\u001b[K\rremote: Counting objects:  85% (17/20)\u001b[K\rremote: Counting objects:  90% (18/20)\u001b[K\rremote: Counting objects:  95% (19/20)\u001b[K\rremote: Counting objects: 100% (20/20)\u001b[K\rremote: Counting objects: 100% (20/20), done.\u001b[K\n",
            "remote: Compressing objects:   6% (1/15)\u001b[K\rremote: Compressing objects:  13% (2/15)\u001b[K\rremote: Compressing objects:  20% (3/15)\u001b[K\rremote: Compressing objects:  26% (4/15)\u001b[K\rremote: Compressing objects:  33% (5/15)\u001b[K\rremote: Compressing objects:  40% (6/15)\u001b[K\rremote: Compressing objects:  46% (7/15)\u001b[K\rremote: Compressing objects:  53% (8/15)\u001b[K\rremote: Compressing objects:  60% (9/15)\u001b[K\rremote: Compressing objects:  66% (10/15)\u001b[K\rremote: Compressing objects:  73% (11/15)\u001b[K\rremote: Compressing objects:  80% (12/15)\u001b[K\rremote: Compressing objects:  86% (13/15)\u001b[K\rremote: Compressing objects:  93% (14/15)\u001b[K\rremote: Compressing objects: 100% (15/15)\u001b[K\rremote: Compressing objects: 100% (15/15), done.\u001b[K\n",
            "Receiving objects:   5% (1/20)\rReceiving objects:  10% (2/20)\rReceiving objects:  15% (3/20)\rReceiving objects:  20% (4/20)\rReceiving objects:  25% (5/20)\rReceiving objects:  30% (6/20)\rReceiving objects:  35% (7/20)\rReceiving objects:  40% (8/20)\rReceiving objects:  45% (9/20)\rReceiving objects:  50% (10/20)\rReceiving objects:  55% (11/20)\rremote: Total 20 (delta 8), reused 9 (delta 3), pack-reused 0 (from 0)\u001b[K\n",
            "Receiving objects:  60% (12/20)\rReceiving objects:  65% (13/20)\rReceiving objects:  70% (14/20)\rReceiving objects:  75% (15/20)\rReceiving objects:  80% (16/20)\rReceiving objects:  85% (17/20)\rReceiving objects:  90% (18/20)\rReceiving objects:  95% (19/20)\rReceiving objects: 100% (20/20)\rReceiving objects: 100% (20/20), 868.11 KiB | 29.93 MiB/s, done.\n",
            "Resolving deltas:   0% (0/8)\rResolving deltas:  12% (1/8)\rResolving deltas:  25% (2/8)\rResolving deltas:  37% (3/8)\rResolving deltas:  50% (4/8)\rResolving deltas:  62% (5/8)\rResolving deltas:  75% (6/8)\rResolving deltas:  87% (7/8)\rResolving deltas: 100% (8/8)\rResolving deltas: 100% (8/8), done.\n"
          ]
        }
      ],
      "source": [
        "! git clone https://github.com/alessandrou24/ColabGithub.git"
      ]
    }
  ],
  "metadata": {
    "colab": {
      "machine_shape": "hm",
      "provenance": [],
      "include_colab_link": true
    },
    "kernelspec": {
      "display_name": ".venv",
      "language": "python",
      "name": "python3"
    },
    "language_info": {
      "codemirror_mode": {
        "name": "ipython",
        "version": 3
      },
      "file_extension": ".py",
      "mimetype": "text/x-python",
      "name": "python",
      "nbconvert_exporter": "python",
      "pygments_lexer": "ipython3",
      "version": "3.9.7"
    }
  },
  "nbformat": 4,
  "nbformat_minor": 0
}